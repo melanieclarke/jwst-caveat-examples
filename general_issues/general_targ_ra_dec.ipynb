{
 "cells": [
  {
   "cell_type": "markdown",
   "id": "b94373b8",
   "metadata": {},
   "source": [
    "The notebook updates celestial coordinates (TARG_RA, TARG_DEC) at the midpoint of a JWST exposure (EXPMID), applying proper motion (MU_RA, MU_DEC) to celestial coordinates (PROP_RA, PROP_DEC, MU_EPOCH) provided by the observer. See Known Issues with JWST Data Products in JDox."
   ]
  },
  {
   "cell_type": "code",
   "execution_count": 1,
   "id": "b65099cf",
   "metadata": {},
   "outputs": [],
   "source": [
    "from math import cos, pi\n",
    "import requests\n",
    "\n",
    "from astropy.time import Time\n",
    "from astropy.units import arcsec, deg, pc, yr\n",
    "from astropy.io import fits"
   ]
  },
  {
   "cell_type": "markdown",
   "id": "956a9891",
   "metadata": {},
   "source": [
    "Define function that updates celestial coordinates (TARG_RA, TARG_DEC) at the midpoint of a JWST exposure (EXPMID), applying proper motion (MU_RA, MU_DEC) to celestial coordinates (PROP_RA, PROP_DEC, MU_EPOCH) provided by the observer."
   ]
  },
  {
   "cell_type": "code",
   "execution_count": 2,
   "id": "0362fd83",
   "metadata": {},
   "outputs": [],
   "source": [
    "def fix_radec(path, distance=1000*pc):\n",
    "    '''Fix TARG_RA and TARG_DEC in primary FITS header.'''\n",
    "    with fits.open(path, 'update') as hdulist:\n",
    "        header = hdulist['primary'].header\n",
    "        prop_ra = header['prop_ra'] # deg\n",
    "        prop_dec = header['prop_dec'] # deg\n",
    "        mu_epoch = Time(header['mu_epoch'])\n",
    "        mu_ra = header['mu_ra'] # arcsec / yr\n",
    "        mu_dec = header['mu_dec'] # arcsec / yr\n",
    "        expmid = Time(header['expmid'], format='mjd')\n",
    "        dtime = Time(expmid, format='mjd') - Time(mu_epoch)\n",
    "        dyear = dtime.to(yr).value\n",
    "        new_targ_ra = prop_ra + dyear * mu_ra / 3600 / cos(pi * prop_dec / 180)\n",
    "        new_targ_dec = prop_dec + dyear * mu_dec / 3600\n",
    "        \n",
    "        old_targ_ra = header['targ_ra']\n",
    "        old_targ_dec = header['targ_dec']\n",
    "        print(f'old: targ_ra={old_targ_ra:.6f}, targ_dec={old_targ_dec:.6f}')\n",
    "        header['targ_ra'] = new_targ_ra\n",
    "        header['targ_dec'] = new_targ_dec\n",
    "        print(f'new: targ_ra={new_targ_ra:.6f}, targ_dec={new_targ_dec:.6f}')"
   ]
  },
  {
   "cell_type": "markdown",
   "id": "c22545e7",
   "metadata": {},
   "source": [
    "Define function to download a named file via the MAST API. The function includes authentication logic, but this example uses public data, so no MAST API token is required."
   ]
  },
  {
   "cell_type": "code",
   "execution_count": 3,
   "id": "f1749021",
   "metadata": {},
   "outputs": [],
   "source": [
    "def get_jwst_file(name, mast_api_token=None):\n",
    "    \"\"\"Retrieve a JWST data file from MAST archive.\"\"\"\n",
    "    mast_url = \"https://mast.stsci.edu/api/v0.1/Download/file\"\n",
    "    params = dict(uri=f\"mast:JWST/product/{name}\")\n",
    "    if mast_api_token:\n",
    "        headers = dict(Authorization=f\"token {get_mast_api_token()}\")\n",
    "    else:\n",
    "        headers = {}\n",
    "    r = requests.get(mast_url, params=params, headers=headers, stream=True)\n",
    "    r.raise_for_status()\n",
    "    with open(name, \"wb\") as fobj:\n",
    "        for chunk in r.iter_content(chunk_size=1024000):\n",
    "            fobj.write(chunk)"
   ]
  },
  {
   "cell_type": "markdown",
   "id": "316f08a0",
   "metadata": {},
   "source": [
    "Download a public, uncalibrated FITS file from the MAST archive."
   ]
  },
  {
   "cell_type": "code",
   "execution_count": 4,
   "id": "1937b8e4",
   "metadata": {},
   "outputs": [
    {
     "name": "stdout",
     "output_type": "stream",
     "text": [
      "Downloading jw02288003001_04102_00001_nrs1_cal.fits\n"
     ]
    }
   ],
   "source": [
    "name = 'jw02288003001_04102_00001_nrs1_cal.fits'\n",
    "print(f'Downloading {name}')\n",
    "get_jwst_file(name)"
   ]
  },
  {
   "cell_type": "markdown",
   "id": "1bdb89df",
   "metadata": {},
   "source": [
    "Update TARG_RA and TARG_DEC in the primary header."
   ]
  },
  {
   "cell_type": "code",
   "execution_count": 5,
   "id": "21123ae4",
   "metadata": {},
   "outputs": [
    {
     "name": "stdout",
     "output_type": "stream",
     "text": [
      "old: targ_ra=96.191172, targ_dec=-45.363249\n",
      "new: targ_ra=96.191106, targ_dec=-45.362765\n"
     ]
    }
   ],
   "source": [
    "fix_radec(name)"
   ]
  },
  {
   "cell_type": "code",
   "execution_count": null,
   "id": "4151833d",
   "metadata": {},
   "outputs": [],
   "source": []
  }
 ],
 "metadata": {
  "kernelspec": {
   "display_name": "Python 3 (ipykernel)",
   "language": "python",
   "name": "python3"
  },
  "language_info": {
   "codemirror_mode": {
    "name": "ipython",
    "version": 3
   },
   "file_extension": ".py",
   "mimetype": "text/x-python",
   "name": "python",
   "nbconvert_exporter": "python",
   "pygments_lexer": "ipython3",
   "version": "3.10.12"
  }
 },
 "nbformat": 4,
 "nbformat_minor": 5
}
