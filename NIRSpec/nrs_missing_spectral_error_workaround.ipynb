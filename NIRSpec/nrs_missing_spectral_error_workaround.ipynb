{
 "cells": [
  {
   "cell_type": "markdown",
   "id": "161f9375",
   "metadata": {},
   "source": [
    "# Workaround Example for Missing Spectral Error in NIRSpec Products\n",
    "--------------------------------------------------------------------------------------------------------\n",
    "**Latest update**: July 24, 2023.\n",
    "\n",
    "## Notebook Goals\n",
    "Update error arrays for 1D and 2D extracted spectra (x1d and s2d products) from Poisson and read noise variance extensions. Use this workaround until reference flat files are delivered with associated error estimates."
   ]
  },
  {
   "cell_type": "markdown",
   "id": "b94373b8",
   "metadata": {},
   "source": [
    "This notebook uses as an example a commissioning observation from program 1128: a 3-dither fixed-slit observation of point source TYC 4433-1800-1 with filter F170LP, grating G235H, and slit S200A2.  \n",
    "\n",
    "Only the final products from the level 3 pipeline are updated here. If earlier products from the level 2 pipeline are needed, they can be updated similarly."
   ]
  },
  {
   "cell_type": "markdown",
   "id": "d5dce554",
   "metadata": {},
   "source": [
    "## Setup"
   ]
  },
  {
   "cell_type": "markdown",
   "id": "e5f2b330",
   "metadata": {},
   "source": [
    "Import necessary packages."
   ]
  },
  {
   "cell_type": "code",
   "execution_count": 1,
   "id": "b65099cf",
   "metadata": {},
   "outputs": [],
   "source": [
    "import json\n",
    "import requests\n",
    "import warnings\n",
    "\n",
    "import numpy as np\n",
    "from matplotlib import pyplot as plt\n",
    "from astropy.io import fits\n",
    "\n",
    "warnings.simplefilter('ignore', RuntimeWarning)"
   ]
  },
  {
   "cell_type": "markdown",
   "id": "c22545e7",
   "metadata": {},
   "source": [
    "Define a function to download a named file via the MAST API. The function includes authentication logic, but this example uses public data, so no MAST API token is required."
   ]
  },
  {
   "cell_type": "code",
   "execution_count": 2,
   "id": "f1749021",
   "metadata": {},
   "outputs": [],
   "source": [
    "def get_jwst_file(name, mast_api_token=None):\n",
    "    \"\"\"Retrieve a JWST data file from MAST archive.\"\"\"\n",
    "    mast_url = \"https://mast.stsci.edu/api/v0.1/Download/file\"\n",
    "    params = dict(uri=f\"mast:JWST/product/{name}\")\n",
    "    if mast_api_token:\n",
    "        headers = dict(Authorization=f\"token {mast_api_token}\")\n",
    "    else:\n",
    "        headers = {}\n",
    "    r = requests.get(mast_url, params=params, headers=headers, stream=True)\n",
    "    r.raise_for_status()\n",
    "    with open(name, \"wb\") as fobj:\n",
    "        for chunk in r.iter_content(chunk_size=1024000):\n",
    "            fobj.write(chunk)"
   ]
  },
  {
   "cell_type": "markdown",
   "id": "316f08a0",
   "metadata": {},
   "source": [
    "Create a list of filenames. Download the data from MAST."
   ]
  },
  {
   "cell_type": "code",
   "execution_count": 3,
   "id": "a5e0d3d9",
   "metadata": {},
   "outputs": [
    {
     "name": "stdout",
     "output_type": "stream",
     "text": [
      "Downloading jw01128-o007_s00002_nirspec_f170lp-g235h-s200a2-subs200a2_x1d.fits\n",
      "Downloading jw01128-o007_s00002_nirspec_f170lp-g235h-s200a2-subs200a2_s2d.fits\n",
      "Downloading jw01128-o007_s00002_nirspec_f170lp-g235h-s200a2-subs200a2_cal.fits\n",
      "Downloading jw01128-o007_s00002_nirspec_f170lp-g235h-s200a2-subs200a2_crf.fits\n"
     ]
    }
   ],
   "source": [
    "spec3_name = 'jw01128-o007_s00002_nirspec_f170lp-g235h-s200a2-subs200a2'\n",
    "\n",
    "# get 1D and 2D spectral products for the final spec3 output\n",
    "x1d_names = [f'{spec3_name}_x1d.fits']\n",
    "s2d_names = [f'{spec3_name}_s2d.fits']\n",
    "cal_names = [f'{spec3_name}_cal.fits']\n",
    "crf_names = [f'{spec3_name}_crf.fits']\n",
    "\n",
    "# download all the FITS files\n",
    "for name in x1d_names + s2d_names + cal_names + crf_names:\n",
    "    print(f'Downloading {name}')\n",
    "    get_jwst_file(name)"
   ]
  },
  {
   "cell_type": "markdown",
   "id": "1bdb89df",
   "metadata": {},
   "source": [
    "## Correct NaN values in extracted error array\n",
    "\n",
    "For the extracted spectrum, error information is stored in table columns.  The overall error on the flux is reported in the FLUX_ERROR column.  For some versions of the pipeline and NIRSpec flat reference files, the FLUX_ERROR may be erroneously filled with NaN values.\n",
    "\n",
    "The error on the flux may be recalculated from the component variance sources.  These are stored in the spectral columns FLUX_VAR_POISSON, FLUX_VAR_RNOISE, and FLUX_VAR_FLAT.  The FLUX_VAR_FLAT may be filled with zeroes or NaN values, for flat reference files that do not yet have associated error estimates."
   ]
  },
  {
   "cell_type": "markdown",
   "id": "676e89d9",
   "metadata": {},
   "source": [
    "Combine the three variance sources in quadrature and take the square root to estimate the error on the flux."
   ]
  },
  {
   "cell_type": "code",
   "execution_count": 4,
   "id": "21123ae4",
   "metadata": {},
   "outputs": [
    {
     "name": "stdout",
     "output_type": "stream",
     "text": [
      "Updating error for jw01128-o007_s00002_nirspec_f170lp-g235h-s200a2-subs200a2_x1d.fits\n",
      "Extension 1\n",
      "\tMean error before update: nan\n",
      "\n",
      "\tMean Poisson error: 2.5856338070120033e-05\n",
      "\tMean read noise error: 1.8502971552539488e-06\n",
      "\tMean flat error: nan\n",
      "\n",
      "\tMean error after update: 2.4892922668401522e-05\n",
      "\n"
     ]
    }
   ],
   "source": [
    "for name in x1d_names:\n",
    "    with fits.open(name, 'update') as hdulist:\n",
    "        print(f'Updating error for {name}')\n",
    "        for extnum in range(len(hdulist)):\n",
    "            hdu = hdulist[extnum]\n",
    "            if hdu.name == 'EXTRACT1D':\n",
    "                print(f\"Extension {extnum}\")\n",
    "\n",
    "                # report value before correction\n",
    "                print(f\"\\tMean error before update: {np.nanmean(hdu.data['FLUX_ERROR'])}\\n\")\n",
    "\n",
    "                # report input values\n",
    "                print(f\"\\tMean Poisson error: {np.sqrt(np.nanmean(hdu.data['FLUX_VAR_POISSON']))}\")\n",
    "                print(f\"\\tMean read noise error: {np.sqrt(np.nanmean(hdu.data['FLUX_VAR_RNOISE']))}\")\n",
    "                print(f\"\\tMean flat error: {np.sqrt(np.nanmean(hdu.data['FLUX_VAR_FLAT']))}\\n\")\n",
    "                \n",
    "                # add components in quadrature, ignoring NaNs\n",
    "                components = [hdu.data['FLUX_VAR_POISSON'], \n",
    "                              hdu.data['FLUX_VAR_RNOISE'], \n",
    "                              hdu.data['FLUX_VAR_FLAT']]\n",
    "                new_error = np.sqrt(np.nansum(components, axis=0))\n",
    "                \n",
    "                # update FITS file\n",
    "                hdu.data['FLUX_ERROR'] = new_error\n",
    "\n",
    "                # report value after correction\n",
    "                print(f\"\\tMean error after update: {np.nanmean(hdu.data['FLUX_ERROR'])}\\n\")\n"
   ]
  },
  {
   "cell_type": "markdown",
   "id": "1fb7daac",
   "metadata": {},
   "source": [
    "## Add an estimated flat error to the total error on the extracted flux\n",
    "If the flat error has not been provided (i.e. the mean flat error is reported as zero or NaN, above), the calculated error may be underestimated for the spectrum.  If desired, an estimate of the systematic error due to flat correction can be added in place of the flat variance array."
   ]
  },
  {
   "cell_type": "markdown",
   "id": "0d6044e9",
   "metadata": {},
   "source": [
    "For example, add a 1% overall error on the flux in place of the flat variance."
   ]
  },
  {
   "cell_type": "code",
   "execution_count": 5,
   "id": "8aae4f8e",
   "metadata": {},
   "outputs": [
    {
     "name": "stdout",
     "output_type": "stream",
     "text": [
      "Updating error for jw01128-o007_s00002_nirspec_f170lp-g235h-s200a2-subs200a2_x1d.fits with additional estimated flat error\n",
      "Extension 1\n",
      "\tMean error before update: 2.4892922668401522e-05\n",
      "\n",
      "\tMean Poisson error: 2.5856338070120033e-05\n",
      "\tMean read noise error: 1.8502971552539488e-06\n",
      "\tMean estimated flat error: 0.00013021076554894952\n",
      "\n",
      "\tMean error after update: 0.00012527375386506146\n",
      "\n"
     ]
    }
   ],
   "source": [
    "estimated_fractional_error = 0.01\n",
    "for name in x1d_names:\n",
    "    with fits.open(name, 'update') as hdulist:\n",
    "        print(f'Updating error for {name} with additional estimated flat error')\n",
    "        for extnum in range(len(hdulist)):\n",
    "            hdu = hdulist[extnum]\n",
    "            if hdu.name == 'EXTRACT1D':\n",
    "                print(f\"Extension {extnum}\")\n",
    "\n",
    "                # report value before correction\n",
    "                print(f\"\\tMean error before update: {np.nanmean(hdu.data['FLUX_ERROR'])}\\n\")\n",
    "\n",
    "                # report input values\n",
    "                print(f\"\\tMean Poisson error: {np.sqrt(np.nanmean(hdu.data['FLUX_VAR_POISSON']))}\")\n",
    "                print(f\"\\tMean read noise error: {np.sqrt(np.nanmean(hdu.data['FLUX_VAR_RNOISE']))}\")\n",
    "\n",
    "                # estimate a flat error\n",
    "                flat_var = (estimated_fractional_error * hdu.data['FLUX']) ** 2\n",
    "                print(f\"\\tMean estimated flat error: {np.sqrt(np.nanmean(flat_var))}\\n\")\n",
    "                \n",
    "                # add components in quadrature, ignoring NaNs\n",
    "                components = [hdu.data['FLUX_VAR_POISSON'], \n",
    "                              hdu.data['FLUX_VAR_RNOISE'], \n",
    "                              flat_var]\n",
    "                new_error = np.sqrt(np.nansum(components, axis=0))\n",
    "                \n",
    "                # update FITS file\n",
    "                hdu.data['FLUX_ERROR'] = new_error\n",
    "\n",
    "                # report value after correction\n",
    "                print(f\"\\tMean error after update: {np.nanmean(hdu.data['FLUX_ERROR'])}\\n\")"
   ]
  },
  {
   "cell_type": "markdown",
   "id": "2bb486f4",
   "metadata": {},
   "source": [
    "## Add an estimated flat error to the 2D spectral error image\n",
    "\n",
    "The 2D spectral files contain similar component variance information, stored in image extensions rather table columns. The error on the flux, in the ERR extension, generally was not impacted by the all-NaN propagation issue in the pipeline, but it may still be underestimated for some reference flat files.  An additional error may be added to these products in a similar manner to the 1D correction."
   ]
  },
  {
   "cell_type": "markdown",
   "id": "1a6c08da",
   "metadata": {},
   "source": [
    "Apply the same systematic 1% error to the s2d, cal, and crf data products."
   ]
  },
  {
   "cell_type": "code",
   "execution_count": 6,
   "id": "cdf1d723",
   "metadata": {},
   "outputs": [
    {
     "name": "stdout",
     "output_type": "stream",
     "text": [
      "Updating error for jw01128-o007_s00002_nirspec_f170lp-g235h-s200a2-subs200a2_s2d.fits with additional estimated flat error\n",
      "Spectral set 1\n",
      "\tMean error before update: 2.7255378943352726e-12\n",
      "\n",
      "\tMean Poisson error: 4.889999429685821e-12\n",
      "\tMean read noise error: 2.68169232479909e-12\n",
      "\tMean estimated flat error: 1.4161702192871939e-11\n",
      "\n",
      "\tMean error after update: 7.492799783404003e-12\n",
      "\n",
      "Updating error for jw01128-o007_s00002_nirspec_f170lp-g235h-s200a2-subs200a2_cal.fits with additional estimated flat error\n",
      "Spectral set 1\n",
      "\tMean error before update: 8.593573875259608e-05\n",
      "\n",
      "\tMean Poisson error: 16.16258430480957\n",
      "\tMean read noise error: 23.792741775512695\n",
      "\tMean estimated flat error: 2.2373940737452358e-05\n",
      "\n",
      "\tMean error after update: 0.3868657648563385\n",
      "\n",
      "Spectral set 2\n",
      "\tMean error before update: 0.0001253183581866324\n",
      "\n",
      "\tMean Poisson error: 27.36435317993164\n",
      "\tMean read noise error: 39.94871139526367\n",
      "\tMean estimated flat error: 2.4791743271634914e-05\n",
      "\n",
      "\tMean error after update: 1.111433982849121\n",
      "\n",
      "Spectral set 3\n",
      "\tMean error before update: 0.00012005213648080826\n",
      "\n",
      "\tMean Poisson error: 25.858837127685547\n",
      "\tMean read noise error: 39.14533233642578\n",
      "\tMean estimated flat error: 2.5529054255457595e-05\n",
      "\n",
      "\tMean error after update: 1.0769599676132202\n",
      "\n",
      "Spectral set 4\n",
      "\tMean error before update: 9.077369759324938e-05\n",
      "\n",
      "\tMean Poisson error: 16.765756607055664\n",
      "\tMean read noise error: 23.88020133972168\n",
      "\tMean estimated flat error: 2.531706377340015e-05\n",
      "\n",
      "\tMean error after update: 0.3924344480037689\n",
      "\n",
      "Spectral set 5\n",
      "\tMean error before update: 8.921482367441058e-05\n",
      "\n",
      "\tMean Poisson error: 16.612520217895508\n",
      "\tMean read noise error: 23.593286514282227\n",
      "\tMean estimated flat error: 3.186657704645768e-05\n",
      "\n",
      "\tMean error after update: 0.3878020644187927\n",
      "\n",
      "Spectral set 6\n",
      "\tMean error before update: 0.00013000235776416957\n",
      "\n",
      "\tMean Poisson error: 26.231752395629883\n",
      "\tMean read noise error: 39.67279052734375\n",
      "\tMean estimated flat error: 2.5100111088249832e-05\n",
      "\n",
      "\tMean error after update: 1.091647982597351\n",
      "\n",
      "Updating error for jw01128-o007_s00002_nirspec_f170lp-g235h-s200a2-subs200a2_crf.fits with additional estimated flat error\n",
      "Spectral set 1\n",
      "\tMean error before update: 8.593573875259608e-05\n",
      "\n",
      "\tMean Poisson error: 16.16258430480957\n",
      "\tMean read noise error: 23.792741775512695\n",
      "\tMean estimated flat error: 2.2373940737452358e-05\n",
      "\n",
      "\tMean error after update: 0.3868657648563385\n",
      "\n",
      "Spectral set 2\n",
      "\tMean error before update: 0.0001253183581866324\n",
      "\n",
      "\tMean Poisson error: 27.36435317993164\n",
      "\tMean read noise error: 39.94871139526367\n",
      "\tMean estimated flat error: 2.4791743271634914e-05\n",
      "\n",
      "\tMean error after update: 1.111433982849121\n",
      "\n",
      "Spectral set 3\n",
      "\tMean error before update: 0.00012005213648080826\n",
      "\n",
      "\tMean Poisson error: 25.858837127685547\n",
      "\tMean read noise error: 39.14533233642578\n",
      "\tMean estimated flat error: 2.5529054255457595e-05\n",
      "\n",
      "\tMean error after update: 1.0769599676132202\n",
      "\n",
      "Spectral set 4\n",
      "\tMean error before update: 9.077369759324938e-05\n",
      "\n",
      "\tMean Poisson error: 16.765756607055664\n",
      "\tMean read noise error: 23.88020133972168\n",
      "\tMean estimated flat error: 2.531706377340015e-05\n",
      "\n",
      "\tMean error after update: 0.3924344480037689\n",
      "\n",
      "Spectral set 5\n",
      "\tMean error before update: 8.921482367441058e-05\n",
      "\n",
      "\tMean Poisson error: 16.612520217895508\n",
      "\tMean read noise error: 23.593286514282227\n",
      "\tMean estimated flat error: 3.186657704645768e-05\n",
      "\n",
      "\tMean error after update: 0.3878020644187927\n",
      "\n",
      "Spectral set 6\n",
      "\tMean error before update: 0.00013000235776416957\n",
      "\n",
      "\tMean Poisson error: 26.231752395629883\n",
      "\tMean read noise error: 39.67279052734375\n",
      "\tMean estimated flat error: 2.5100111088249832e-05\n",
      "\n",
      "\tMean error after update: 1.091647982597351\n",
      "\n"
     ]
    }
   ],
   "source": [
    "for name in s2d_names + cal_names + crf_names:\n",
    "    with fits.open(name, 'update') as hdulist:\n",
    "        print(f'Updating error for {name} with additional estimated flat error')\n",
    "        spectral_set = 0\n",
    "        flux, error_extnum, var_p, var_r = None, None, None, None\n",
    "        for extnum in range(len(hdulist)):\n",
    "            hdu = hdulist[extnum]\n",
    "            if hdu.name == 'SCI':\n",
    "                # SCI extension marks the start of a new spectral set\n",
    "                spectral_set += 1\n",
    "                \n",
    "                # keep the flux from the SCI extension\n",
    "                flux = hdu.data\n",
    "            elif hdu.name == 'ERR':\n",
    "                # keep the ERR extension number, to update later\n",
    "                error_extnum = extnum\n",
    "            elif hdu.name == 'VAR_POISSON':\n",
    "                # keep the poisson variance\n",
    "                var_p = hdu.data\n",
    "            elif hdu.name == 'VAR_RNOISE':\n",
    "                # keep the read noise variance\n",
    "                var_r = hdu.data\n",
    "            elif hdu.name == 'VAR_FLAT':\n",
    "                # ignore the input flat variance, update the error extension for the set\n",
    "                print(f\"Spectral set {spectral_set}\")\n",
    "                \n",
    "                # report value before correction\n",
    "                print(f\"\\tMean error before update: {np.nanmean(hdulist[error_extnum].data)}\\n\")\n",
    "\n",
    "                # report input values\n",
    "                print(f\"\\tMean Poisson error: {np.sqrt(np.nanmean(var_p))}\")\n",
    "                print(f\"\\tMean read noise error: {np.sqrt(np.nanmean(var_r))}\")\n",
    "\n",
    "                # estimate a 1% flat error\n",
    "                flat_var = (estimated_fractional_error * flux) ** 2\n",
    "                print(f\"\\tMean estimated flat error: {np.sqrt(np.nanmean(flat_var))}\\n\")\n",
    "                \n",
    "                # add components in quadrature, ignoring NaNs\n",
    "                components = [var_p, var_r, flat_var] \n",
    "                new_error = np.sqrt(np.nansum(components, axis=0))\n",
    "                \n",
    "                # update FITS file\n",
    "                hdulist[error_extnum].data = new_error\n",
    "\n",
    "                # report value after correction\n",
    "                print(f\"\\tMean error after update: {np.nanmean(hdulist[error_extnum].data)}\\n\")"
   ]
  },
  {
   "cell_type": "markdown",
   "id": "b1087bc5",
   "metadata": {},
   "source": [
    "## Verify outputs\n",
    "\n",
    "Both 1D and 2D spectral data should now have appropriate errors."
   ]
  },
  {
   "cell_type": "markdown",
   "id": "ca208fb0",
   "metadata": {},
   "source": [
    "Plot the 1D spectra with errors marked as a shaded range around the flux. Also plot the signal-to-noise ratio for the spectrum."
   ]
  },
  {
   "cell_type": "code",
   "execution_count": 7,
   "id": "8a8d4345",
   "metadata": {},
   "outputs": [
    {
     "data": {
      "image/png": "[encoded data removed]",
      "text/plain": [
       "<Figure size 1000x500 with 2 Axes>"
      ]
     },
     "metadata": {},
     "output_type": "display_data"
    }
   ],
   "source": [
    "fig, ax = plt.subplots(1, 2, figsize=(10, 5))\n",
    "plt.suptitle(f'Updated spectrum for {spec3_name}')\n",
    "\n",
    "# pipeline extracted spectrum\n",
    "for i, name in enumerate(x1d_names):\n",
    "    with fits.open(name) as hdulist:\n",
    "        data = hdulist['EXTRACT1D'].data\n",
    "        header = hdulist['EXTRACT1D'].header\n",
    "        flux_plot = ax[0].plot(data['WAVELENGTH'], data['FLUX'], linewidth=1)\n",
    "        error_range = ax[0].fill_between(data['WAVELENGTH'], \n",
    "                                         data['FLUX'] - data['FLUX_ERROR'], \n",
    "                                         data['FLUX'] + data['FLUX_ERROR'], alpha=0.2)\n",
    "        s2n = ax[1].plot(data['WAVELENGTH'], data['FLUX'] / data['FLUX_ERROR'])\n",
    "        \n",
    "        ax[0].set_xlabel(f\"Wavelength ({header['TUNIT1']})\")\n",
    "        ax[0].set_ylabel(f\"Flux ({header['TUNIT2']})\")\n",
    "        ax[1].set_xlabel(f\"Wavelength ({header['TUNIT1']})\")\n",
    "        ax[1].set_ylabel(f\"S/N\")\n"
   ]
  }
 ],
 "metadata": {
  "kernelspec": {
   "display_name": "Python 3 (ipykernel)",
   "language": "python",
   "name": "python3"
  },
  "language_info": {
   "codemirror_mode": {
    "name": "ipython",
    "version": 3
   },
   "file_extension": ".py",
   "mimetype": "text/x-python",
   "name": "python",
   "nbconvert_exporter": "python",
   "pygments_lexer": "ipython3",
   "version": "3.10.10"
  }
 },
 "nbformat": 4,
 "nbformat_minor": 5
}
