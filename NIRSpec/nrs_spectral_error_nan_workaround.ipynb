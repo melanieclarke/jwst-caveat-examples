{
 "cells": [
  {
   "cell_type": "markdown",
   "id": "b94373b8",
   "metadata": {},
   "source": [
    "The notebook updates error arrays for 1D and 2D extracted spectra (x1d and s2d products) from Poisson and read noise variance extensions. Use this workaround until reference flat files are delivered with associated error estimates."
   ]
  },
  {
   "cell_type": "code",
   "execution_count": null,
   "id": "b65099cf",
   "metadata": {},
   "outputs": [],
   "source": [
    "import requests\n",
    "\n",
    "import numpy as np\n",
    "from matplotlib import pyplot as plt\n",
    "from astropy.io import fits\n",
    "\n",
    "import warnings\n",
    "warnings.simplefilter('ignore', RuntimeWarning)"
   ]
  },
  {
   "cell_type": "markdown",
   "id": "c22545e7",
   "metadata": {},
   "source": [
    "Define a function to download a named file via the MAST API. The function includes authentication logic, but this example uses public data, so no MAST API token is required."
   ]
  },
  {
   "cell_type": "code",
   "execution_count": null,
   "id": "f1749021",
   "metadata": {},
   "outputs": [],
   "source": [
    "def get_jwst_file(name, mast_api_token=None):\n",
    "    \"\"\"Retrieve a JWST data file from MAST archive.\"\"\"\n",
    "    mast_url = \"https://mast.stsci.edu/api/v0.1/Download/file\"\n",
    "    params = dict(uri=f\"mast:JWST/product/{name}\")\n",
    "    if mast_api_token:\n",
    "        headers = dict(Authorization=f\"token {mast_api_token}\")\n",
    "    else:\n",
    "        headers = {}\n",
    "    r = requests.get(mast_url, params=params, headers=headers, stream=True)\n",
    "    r.raise_for_status()\n",
    "    with open(name, \"wb\") as fobj:\n",
    "        for chunk in r.iter_content(chunk_size=1024000):\n",
    "            fobj.write(chunk)"
   ]
  },
  {
   "cell_type": "markdown",
   "id": "316f08a0",
   "metadata": {},
   "source": [
    "Create a list of filenames. Download the data from MAST."
   ]
  },
  {
   "cell_type": "code",
   "execution_count": null,
   "id": "1937b8e4",
   "metadata": {},
   "outputs": [],
   "source": [
    "x1d_names = []\n",
    "s2d_names = []\n",
    "for activity in [2]:\n",
    "    for exposure in [1]:\n",
    "        for detector in [1, 2]:\n",
    "            x1d_names.append(f'jw02288003001_041{activity:02}_{exposure:05}_nrs{detector}_x1d.fits')\n",
    "            s2d_names.append(f'jw02288003001_041{activity:02}_{exposure:05}_nrs{detector}_s2d.fits')\n",
    "\n",
    "for name in x1d_names + s2d_names:\n",
    "    print(f'Downloading {name}')\n",
    "    get_jwst_file(name)"
   ]
  },
  {
   "cell_type": "markdown",
   "id": "1bdb89df",
   "metadata": {},
   "source": [
    "For the extracted spectrum, error information is stored in table columns.  The overall error on the flux is reported in the FLUX_ERROR column.  For some versions of the pipeline and NIRSpec flat reference files, the FLUX_ERROR may be erroneously filled with NaN values.\n",
    "\n",
    "The error on the flux may be recalculated from the component variance sources.  These are stored in the spectral columns FLUX_VAR_POISSON, FLUX_VAR_RNOISE, and FLUX_VAR_FLAT.  The FLUX_VAR_FLAT may be filled with zeroes or NaN values, for flat reference files that do not yet have associated error estimates."
   ]
  },
  {
   "cell_type": "markdown",
   "id": "676e89d9",
   "metadata": {},
   "source": [
    "Combine the three variance sources in quadrature and take the square root to estimate the error on the flux."
   ]
  },
  {
   "cell_type": "code",
   "execution_count": null,
   "id": "21123ae4",
   "metadata": {},
   "outputs": [],
   "source": [
    "for name in x1d_names:\n",
    "    with fits.open(name, 'update') as hdulist:\n",
    "        print(f'Updating error for {name}')\n",
    "        for extnum in range(len(hdulist)):\n",
    "            hdu = hdulist[extnum]\n",
    "            if hdu.name == 'EXTRACT1D':\n",
    "                print(f\"Extension {extnum}\")\n",
    "\n",
    "                # report value before correction\n",
    "                print(f\"\\tMean error before update: {np.nanmean(hdu.data['FLUX_ERROR'])}\\n\")\n",
    "\n",
    "                # report input values\n",
    "                print(f\"\\tMean Poisson error: {np.sqrt(np.nanmean(hdu.data['FLUX_VAR_POISSON']))}\")\n",
    "                print(f\"\\tMean read noise error: {np.sqrt(np.nanmean(hdu.data['FLUX_VAR_RNOISE']))}\")\n",
    "                print(f\"\\tMean flat error: {np.sqrt(np.nanmean(hdu.data['FLUX_VAR_FLAT']))}\\n\")\n",
    "                \n",
    "                # add components in quadrature, ignoring NaNs\n",
    "                components = [hdu.data['FLUX_VAR_POISSON'], \n",
    "                              hdu.data['FLUX_VAR_RNOISE'], \n",
    "                              hdu.data['FLUX_VAR_FLAT']]\n",
    "                new_error = np.sqrt(np.nansum(components, axis=0))\n",
    "                \n",
    "                # update FITS file\n",
    "                hdu.data['FLUX_ERROR'] = new_error\n",
    "\n",
    "                # report value after correction\n",
    "                print(f\"\\tMean error after update: {np.nanmean(hdu.data['FLUX_ERROR'])}\\n\")\n"
   ]
  },
  {
   "cell_type": "markdown",
   "id": "1fb7daac",
   "metadata": {},
   "source": [
    "If the flat error has not been provided (i.e. the mean flat error is reported as zero or NaN, above), the calculated error may be underestimated for the spectrum.  If desired, an estimate of the systematic error due to flat correction can be added in place of the flat variance array."
   ]
  },
  {
   "cell_type": "markdown",
   "id": "0d6044e9",
   "metadata": {},
   "source": [
    "For example, add a 1% overall error on the flux in place of the flat variance."
   ]
  },
  {
   "cell_type": "code",
   "execution_count": null,
   "id": "8aae4f8e",
   "metadata": {},
   "outputs": [],
   "source": [
    "for name in x1d_names:\n",
    "    with fits.open(name, 'update') as hdulist:\n",
    "        print(f'Updating error for {name} with additional estimated flat error')\n",
    "        for extnum in range(len(hdulist)):\n",
    "            hdu = hdulist[extnum]\n",
    "            if hdu.name == 'EXTRACT1D':\n",
    "                print(f\"Extension {extnum}\")\n",
    "\n",
    "                # report value before correction\n",
    "                print(f\"\\tMean error before update: {np.nanmean(hdu.data['FLUX_ERROR'])}\\n\")\n",
    "\n",
    "                # report input values\n",
    "                print(f\"\\tMean Poisson error: {np.sqrt(np.nanmean(hdu.data['FLUX_VAR_POISSON']))}\")\n",
    "                print(f\"\\tMean read noise error: {np.sqrt(np.nanmean(hdu.data['FLUX_VAR_RNOISE']))}\")\n",
    "\n",
    "                # estimate a 1% flat error\n",
    "                flat_var = (0.01 * hdu.data['FLUX']) ** 2\n",
    "                print(f\"\\tMean estimated flat error: {np.sqrt(np.nanmean(flat_var))}\\n\")\n",
    "                \n",
    "                # add components in quadrature, ignoring NaNs\n",
    "                components = [hdu.data['FLUX_VAR_POISSON'], \n",
    "                              hdu.data['FLUX_VAR_RNOISE'], \n",
    "                              flat_var]\n",
    "                new_error = np.sqrt(np.nansum(components, axis=0))\n",
    "                \n",
    "                # update FITS file\n",
    "                hdu.data['FLUX_ERROR'] = new_error\n",
    "\n",
    "                # report value after correction\n",
    "                print(f\"\\tMean error after update: {np.nanmean(hdu.data['FLUX_ERROR'])}\\n\")"
   ]
  },
  {
   "cell_type": "markdown",
   "id": "2bb486f4",
   "metadata": {},
   "source": [
    "The 2D spectral files contain similar component variance information, stored in image extensions rather table columns. The error on the flux, in the ERR extension, generally was not impacted by the all-NaN propagation issue in the pipeline, but it may still be underestimated for some reference flat files.  An additional error may be added to these products in a similar manner."
   ]
  },
  {
   "cell_type": "markdown",
   "id": "1a6c08da",
   "metadata": {},
   "source": [
    "Apply the same systematic 1% error to the s2d data products."
   ]
  },
  {
   "cell_type": "code",
   "execution_count": null,
   "id": "cdf1d723",
   "metadata": {},
   "outputs": [],
   "source": [
    "for name in s2d_names:\n",
    "    with fits.open(name, 'update') as hdulist:\n",
    "        print(f'Updating error for {name}')\n",
    "        # retrieve data from file, update flux_error column with nansum\n",
    "        # print mean errors\n"
   ]
  }
 ],
 "metadata": {
  "kernelspec": {
   "display_name": "Python 3 (ipykernel)",
   "language": "python",
   "name": "python3"
  },
  "language_info": {
   "codemirror_mode": {
    "name": "ipython",
    "version": 3
   },
   "file_extension": ".py",
   "mimetype": "text/x-python",
   "name": "python",
   "nbconvert_exporter": "python",
   "pygments_lexer": "ipython3",
   "version": "3.10.10"
  }
 },
 "nbformat": 4,
 "nbformat_minor": 5
}
